{
  "nbformat": 4,
  "nbformat_minor": 0,
  "metadata": {
    "colab": {
      "provenance": []
    },
    "kernelspec": {
      "name": "python3",
      "display_name": "Python 3"
    },
    "language_info": {
      "name": "python"
    }
  },
  "cells": [
    {
      "cell_type": "markdown",
      "source": [
        "# Set-2 (Normal distribution, Functions of Random Variables)"
      ],
      "metadata": {
        "id": "_WpHW5ui3WoM"
      }
    },
    {
      "cell_type": "markdown",
      "source": [
        "**Question 4**"
      ],
      "metadata": {
        "id": "r2tIkQRVs2et"
      }
    },
    {
      "cell_type": "markdown",
      "source": [
        "Given,\n",
        "\n",
        "Mean=100\n",
        "\n",
        "Standard Deviation = 20\n",
        "\n",
        "Area enclosed = 0.99\n",
        "\n",
        "Excluded area = 1 – 0.99 = 0.01\n",
        "\n",
        "From the above values, 0.005 area was\n",
        "excluded each from right and left tail.\n",
        "\n",
        "Z= (X-Mean)/Standard Deviation\n",
        "\n",
        "     Z= (X-100)/20\n"
      ],
      "metadata": {
        "id": "h1qJ7fDFtCvB"
      }
    },
    {
      "cell_type": "code",
      "source": [
        "#Z value for finding the 0.5 and 99.5 percentile\n",
        "\n",
        "from scipy import stats"
      ],
      "metadata": {
        "id": "3ygHnCAYs7--"
      },
      "execution_count": null,
      "outputs": []
    },
    {
      "cell_type": "code",
      "source": [
        "stats.norm.ppf(0.005)"
      ],
      "metadata": {
        "colab": {
          "base_uri": "https://localhost:8080/"
        },
        "id": "zmLnTlE4tarh",
        "outputId": "d7b728cf-c7c6-4837-941f-7bd54b041469"
      },
      "execution_count": null,
      "outputs": [
        {
          "output_type": "execute_result",
          "data": {
            "text/plain": [
              "-2.575829303548901"
            ]
          },
          "metadata": {},
          "execution_count": 12
        }
      ]
    },
    {
      "cell_type": "code",
      "source": [
        "stats.norm.ppf(0.995)"
      ],
      "metadata": {
        "colab": {
          "base_uri": "https://localhost:8080/"
        },
        "id": "TURayPVotbfn",
        "outputId": "b54e7440-41af-4758-f91e-32ca871f7eee"
      },
      "execution_count": null,
      "outputs": [
        {
          "output_type": "execute_result",
          "data": {
            "text/plain": [
              "2.5758293035489004"
            ]
          },
          "metadata": {},
          "execution_count": 13
        }
      ]
    },
    {
      "cell_type": "markdown",
      "source": [
        "X1 = (-2.576*20) + 100 =  48.48\n",
        "\n",
        "X2 = (2.576*20) + 100 =  151.52\n"
      ],
      "metadata": {
        "id": "dkkFAmrztlHA"
      }
    },
    {
      "cell_type": "markdown",
      "source": [
        "**Question 5**"
      ],
      "metadata": {
        "id": "XJkREknDMiYw"
      }
    },
    {
      "cell_type": "code",
      "source": [
        "import numpy as np\n",
        "from scipy import stats"
      ],
      "metadata": {
        "id": "7uIknDpV3Ytx"
      },
      "execution_count": null,
      "outputs": []
    },
    {
      "cell_type": "code",
      "source": [
        "Mean = 5+7\n",
        "print('Mean profit in Rs:',Mean*45)"
      ],
      "metadata": {
        "colab": {
          "base_uri": "https://localhost:8080/"
        },
        "id": "vhaJO_bnMKtO",
        "outputId": "c666e034-f752-42d9-9c74-0da904502e1d"
      },
      "execution_count": null,
      "outputs": [
        {
          "output_type": "stream",
          "name": "stdout",
          "text": [
            "Mean profit in Rs: 540\n"
          ]
        }
      ]
    },
    {
      "cell_type": "code",
      "source": [
        "STD = np.sqrt((9)+(16))\n",
        "print('Standard Deviation in Rs:',STD*45)"
      ],
      "metadata": {
        "colab": {
          "base_uri": "https://localhost:8080/"
        },
        "id": "bexkCR3nMTiN",
        "outputId": "212a86d6-4d38-430c-b315-932605b420b0"
      },
      "execution_count": null,
      "outputs": [
        {
          "output_type": "stream",
          "name": "stdout",
          "text": [
            "Standard Deviation in Rs: 225.0\n"
          ]
        }
      ]
    },
    {
      "cell_type": "code",
      "source": [
        "#Rupee Range\n",
        "\n",
        "Range = stats.norm.interval(0.95,540,225)\n",
        "print('Lower Range in Rs:',Range[0])\n",
        "print('Upper Range in Rs:',Range[1])"
      ],
      "metadata": {
        "colab": {
          "base_uri": "https://localhost:8080/"
        },
        "id": "IC_M33FVMhpj",
        "outputId": "2bf16e54-cf10-42c4-f58e-a9186571b46f"
      },
      "execution_count": null,
      "outputs": [
        {
          "output_type": "stream",
          "name": "stdout",
          "text": [
            "Lower Range in Rs: 99.00810347848784\n",
            "Upper Range in Rs: 980.9918965215122\n"
          ]
        }
      ]
    },
    {
      "cell_type": "code",
      "source": [
        "#To compute the 5th percentile\n",
        "\n",
        "X = 540+(-1.645)*225\n",
        "print('5th percentile of profit in rupees:',X)"
      ],
      "metadata": {
        "colab": {
          "base_uri": "https://localhost:8080/"
        },
        "id": "DW1we4BmQCIJ",
        "outputId": "b2565623-9c82-4799-b133-caab7c5cfe29"
      },
      "execution_count": null,
      "outputs": [
        {
          "output_type": "stream",
          "name": "stdout",
          "text": [
            "5th percentile of profit in rupees: 169.875\n"
          ]
        }
      ]
    },
    {
      "cell_type": "code",
      "source": [
        "#Larger probability of making a loss\n",
        "\n",
        "stats.norm.cdf(0,5,3)"
      ],
      "metadata": {
        "colab": {
          "base_uri": "https://localhost:8080/"
        },
        "id": "O_oM27GiqBKH",
        "outputId": "585fa873-bede-48e5-e094-bee77b6a1aae"
      },
      "execution_count": null,
      "outputs": [
        {
          "output_type": "execute_result",
          "data": {
            "text/plain": [
              "0.0477903522728147"
            ]
          },
          "metadata": {},
          "execution_count": 9
        }
      ]
    },
    {
      "cell_type": "code",
      "source": [
        "stats.norm.cdf(0,7,4)"
      ],
      "metadata": {
        "colab": {
          "base_uri": "https://localhost:8080/"
        },
        "id": "U_wzkv5Eq4zX",
        "outputId": "f4b32910-0b6f-4b61-bccb-6bf0268068a6"
      },
      "execution_count": null,
      "outputs": [
        {
          "output_type": "execute_result",
          "data": {
            "text/plain": [
              "0.040059156863817086"
            ]
          },
          "metadata": {},
          "execution_count": 8
        }
      ]
    },
    {
      "cell_type": "markdown",
      "source": [
        "Therefore, the first division has a larger probability of making a loss in the given year."
      ],
      "metadata": {
        "id": "T9-IixK1sWUB"
      }
    },
    {
      "cell_type": "markdown",
      "source": [
        "# Set-4"
      ],
      "metadata": {
        "id": "qpH_FXOEucLC"
      }
    },
    {
      "cell_type": "markdown",
      "source": [
        "**Qustion 3**"
      ],
      "metadata": {
        "id": "LdX72O1TOYIn"
      }
    },
    {
      "cell_type": "markdown",
      "source": [
        "Given,\n",
        "\n",
        "n=100\n",
        "\n",
        "Standard Deviation =40"
      ],
      "metadata": {
        "id": "m5_BxpnYlP5c"
      }
    },
    {
      "cell_type": "code",
      "source": [
        "from scipy import stats"
      ],
      "metadata": {
        "id": "XIENcOiXJ9j2"
      },
      "execution_count": null,
      "outputs": []
    },
    {
      "cell_type": "markdown",
      "source": [
        "Z-score at x=45\n",
        "\n",
        "z= (45-50)/(40/SQRT(100))\n",
        "\n",
        "z= -1.25"
      ],
      "metadata": {
        "id": "w3ttFqVwpEPl"
      }
    },
    {
      "cell_type": "code",
      "source": [
        "stats.norm.cdf(-1.25)"
      ],
      "metadata": {
        "colab": {
          "base_uri": "https://localhost:8080/"
        },
        "id": "ib8qdV06o1p9",
        "outputId": "41118e20-4ee5-4774-915e-6807a2df6395"
      },
      "execution_count": null,
      "outputs": [
        {
          "output_type": "execute_result",
          "data": {
            "text/plain": [
              "0.10564977366685535"
            ]
          },
          "metadata": {},
          "execution_count": 9
        }
      ]
    },
    {
      "cell_type": "markdown",
      "source": [
        "Z-score at x=55\n",
        "\n",
        "z= (55-50)/(40/SQRT(100))\n",
        "\n",
        "z= 1.25"
      ],
      "metadata": {
        "id": "TUAZa1g0o0BP"
      }
    },
    {
      "cell_type": "code",
      "source": [
        "stats.norm.cdf(1.25)"
      ],
      "metadata": {
        "colab": {
          "base_uri": "https://localhost:8080/"
        },
        "id": "-sxX0dObpTCt",
        "outputId": "f8b21d07-987d-4ceb-f34f-c923cf50776f"
      },
      "execution_count": null,
      "outputs": [
        {
          "output_type": "execute_result",
          "data": {
            "text/plain": [
              "0.8943502263331446"
            ]
          },
          "metadata": {},
          "execution_count": 10
        }
      ]
    },
    {
      "cell_type": "code",
      "source": [
        "#For no investigation P(45<X<55)\n",
        "stats.norm.cdf(1.25)-stats.norm.cdf(-1.25)"
      ],
      "metadata": {
        "id": "V3bJwC6JKUs8",
        "colab": {
          "base_uri": "https://localhost:8080/"
        },
        "outputId": "c5c45e62-9d4b-4620-f3aa-90aad44b924d"
      },
      "execution_count": null,
      "outputs": [
        {
          "output_type": "execute_result",
          "data": {
            "text/plain": [
              "0.7887004526662893"
            ]
          },
          "metadata": {},
          "execution_count": 11
        }
      ]
    },
    {
      "cell_type": "code",
      "source": [
        "#For investigation 1-P(45<X<55)\n",
        "1-(stats.norm.cdf(1.25)-stats.norm.cdf(-1.25))"
      ],
      "metadata": {
        "colab": {
          "base_uri": "https://localhost:8080/"
        },
        "id": "OE0-buMtOBo1",
        "outputId": "86b8563e-1b18-48d9-caf7-c7f40d64af74"
      },
      "execution_count": null,
      "outputs": [
        {
          "output_type": "execute_result",
          "data": {
            "text/plain": [
              "0.2112995473337107"
            ]
          },
          "metadata": {},
          "execution_count": 12
        }
      ]
    },
    {
      "cell_type": "markdown",
      "source": [
        "Ans **D** (21.1%)"
      ],
      "metadata": {
        "id": "GoQHYeOVTDS5"
      }
    }
  ]
}